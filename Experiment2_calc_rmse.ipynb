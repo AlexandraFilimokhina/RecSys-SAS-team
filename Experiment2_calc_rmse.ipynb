{
 "cells": [
  {
   "cell_type": "code",
   "execution_count": 21,
   "metadata": {},
   "outputs": [],
   "source": [
    "def ComputeRMSE(x, y):\n",
    "    \"\"\"Computes the RMSE of a dot product model and a trivial model.\n",
    "  \n",
    "    Args:\n",
    "      x: the input embeddings, a list of length n, such that x[i] is a pair of\n",
    "        user and item embeddings.\n",
    "      y: the labels, a list of length n.\n",
    "  \n",
    "    Returns:\n",
    "      rmse_trivial: the RMSE of a trivial model that always predicts 0.\n",
    "      rmse_dot: the RMSE of a dot product model.\n",
    "    \"\"\"\n",
    "    sum_sqr_trivial = 0.0\n",
    "    sum_sqr_dot = 0.0\n",
    "    for i in range(x.shape[0]):\n",
    "        label = y[i]\n",
    "\n",
    "        prediction = 0\n",
    "        diff = prediction - label\n",
    "        sum_sqr_trivial = sum_sqr_trivial + diff * diff\n",
    "\n",
    "        user_emb = x[i][0]\n",
    "        item_emb = x[i][1]\n",
    "        prediction = np.dot(user_emb, item_emb)\n",
    "        diff = prediction - label\n",
    "        sum_sqr_dot = sum_sqr_dot + diff * diff\n",
    "\n",
    "    rmse_trivial = np.sqrt(sum_sqr_trivial / x.shape[0])\n",
    "    rmse_dot = np.sqrt(sum_sqr_dot / x.shape[0])\n",
    "    return rmse_trivial, rmse_dot"
   ]
  },
  {
   "cell_type": "code",
   "execution_count": 22,
   "metadata": {},
   "outputs": [],
   "source": [
    "results = dict()\n",
    "embedding_dims = [16, 32, 64, 128]\n",
    "num_users_ = [4000, 8000, 16000, 32000]"
   ]
  },
  {
   "cell_type": "code",
   "execution_count": 24,
   "metadata": {},
   "outputs": [],
   "source": [
    "dirr = 'datasets'\n",
    "for embedding_dim in embedding_dims:\n",
    "    for num_users in num_users_:\n",
    "        num_items = num_users\n",
    "        load_spec = f'{embedding_dim}_{num_users}_{num_items}'\n",
    "        train_x = np.load(f'{dirr}/train_x_{load_spec}.npy')\n",
    "        train_y = np.load(f'{dirr}/train_y_{load_spec}.npy')\n",
    "        test_x = np.load(f'{dirr}/test_x_{load_spec}.npy')\n",
    "        test_y = np.load(f'{dirr}/test_y_{load_spec}.npy')\n",
    "        fresh_x = np.load(f'{dirr}/fresh_x_{load_spec}.npy')\n",
    "        fresh_y = np.load(f'{dirr}/fresh_y_{load_spec}.npy')\n",
    "        \n",
    "        rmse_train_naive, rmse_train_dot = ComputeRMSE(train_x, train_y)\n",
    "        rmse_test_naive, rmse_test_dot = ComputeRMSE(test_x, test_y)\n",
    "        rmse_fresh_naive, rmse_fresh_dot = ComputeRMSE(fresh_x, fresh_y)\n",
    "        \n",
    "        results[f'emb{embedding_dim}_num_u{num_users}_dot_train_rmse'] = rmse_train_dot \n",
    "        results[f'emb{embedding_dim}_num_u{num_users}_dot_test_rmse'] = rmse_test_dot \n",
    "        results[f'emb{embedding_dim}_num_u{num_users}_dot_fresh_rmse'] = rmse_fresh_dot "
   ]
  },
  {
   "cell_type": "code",
   "execution_count": 36,
   "metadata": {},
   "outputs": [],
   "source": [
    "import pandas as pd\n",
    "df = pd.DataFrame.from_dict(results, orient='index', columns=['rmse'])"
   ]
  },
  {
   "cell_type": "code",
   "execution_count": 38,
   "metadata": {},
   "outputs": [],
   "source": [
    "df.to_parquet('dot_results.parquet')"
   ]
  },
  {
   "cell_type": "code",
   "execution_count": null,
   "metadata": {},
   "outputs": [],
   "source": []
  }
 ],
 "metadata": {
  "kernelspec": {
   "display_name": "Python 3",
   "language": "python",
   "name": "python3"
  },
  "language_info": {
   "codemirror_mode": {
    "name": "ipython",
    "version": 3
   },
   "file_extension": ".py",
   "mimetype": "text/x-python",
   "name": "python",
   "nbconvert_exporter": "python",
   "pygments_lexer": "ipython3",
   "version": "3.7.9"
  }
 },
 "nbformat": 4,
 "nbformat_minor": 4
}
